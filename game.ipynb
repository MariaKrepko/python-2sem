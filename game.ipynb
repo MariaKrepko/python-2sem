{
 "cells": [
  {
   "cell_type": "code",
   "execution_count": 1,
   "metadata": {},
   "outputs": [],
   "source": [
    "import numpy as np"
   ]
  },
  {
   "cell_type": "code",
   "execution_count": 2,
   "metadata": {},
   "outputs": [],
   "source": [
    "def dist(a, b):\n",
    "    return np.sqrt(((b - a)**2).sum())\n",
    "\n",
    "def norm(a):\n",
    "    return a / dist(a, np.array([0, 0]))"
   ]
  },
  {
   "cell_type": "code",
   "execution_count": 3,
   "metadata": {},
   "outputs": [],
   "source": [
    "class sniper():\n",
    "\n",
    "    distance = 5\n",
    "\n",
    "    def __init__(self, name, charts, health, speed):\n",
    "        self.name      = name      # <class 'str'> \n",
    "        self.speed     = speed     # <class 'int'>\n",
    "        self.charts    = charts    # <class 'numpy.ndarray'>\n",
    "        self.health    = health    # <class 'int'>\n",
    "\n",
    "    def __del__(self):\n",
    "        print('{} погибает!'.format(self.name))\n",
    "\n",
    "    def run(self, destination):\n",
    "        print('*звуки бега*')\n",
    "        if dist(self.charts, destination) <= self.speed:\n",
    "            self.charts = destination\n",
    "        else:\n",
    "            self.charts += self.speed * norm(destination - self.charts)\n",
    "\n",
    "    def shoot(self, goal):\n",
    "        print('*звуки стрельбы*')\n",
    "        if dist(self.charts, goal.charts) <= sniper.distance:\n",
    "            print('Попадание!')\n",
    "            goal.wound()\n",
    "        else:\n",
    "            print('Промах!')\n",
    "\n",
    "    def loot(self, item):\n",
    "        if item.lower() == 'аптечка':\n",
    "            print('Здоровье восстановлено!')\n",
    "            self.health += 1\n",
    "        elif item.lower() == 'ускоритель':\n",
    "            print('Скорость увеличилась!')\n",
    "            self.speed += 1\n",
    "\n",
    "    def wound(self):\n",
    "        hp = self.health - 1\n",
    "        if hp <= 0:\n",
    "            self.__del__()\n",
    "        else:\n",
    "            self.health = hp\n",
    "            print('{} ранен!'.format(self.name))"
   ]
  },
  {
   "cell_type": "code",
   "execution_count": 4,
   "metadata": {},
   "outputs": [],
   "source": [
    "class flyer(sniper):\n",
    "\n",
    "    def __init__(self, name, charts, health, speed):\n",
    "        super().__init__(name, charts, health, speed)\n",
    "        \n",
    "    def __del__(self):\n",
    "        super().__del__()\n",
    "        \n",
    "    def fly(self, destination):\n",
    "        print('*звуки полёта*')\n",
    "        self.charts = destination"
   ]
  },
  {
   "cell_type": "code",
   "execution_count": 5,
   "metadata": {},
   "outputs": [],
   "source": [
    "alpha = sniper('Серёжа', np.array([0., 0.]), 10, 1)\n",
    "beta = flyer('Евгений', np.array([8., 7.]), 1, 1)\n",
    "delta = sniper('Витя', np.array([2., 2.]), 10, 1)"
   ]
  },
  {
   "cell_type": "code",
   "execution_count": 6,
   "metadata": {},
   "outputs": [
    {
     "name": "stdout",
     "output_type": "stream",
     "text": [
      "*звуки бега*\n",
      "[0.75257669 0.65850461]\n",
      "*звуки полёта*\n",
      "[2. 3.]\n"
     ]
    }
   ],
   "source": [
    "alpha.run(np.array([8., 7.]))\n",
    "print(alpha.charts)\n",
    "beta.fly(np.array([2., 3.]))\n",
    "print(beta.charts)"
   ]
  },
  {
   "cell_type": "code",
   "execution_count": 7,
   "metadata": {},
   "outputs": [
    {
     "name": "stdout",
     "output_type": "stream",
     "text": [
      "*звуки стрельбы*\n",
      "Попадание!\n",
      "Евгений погибает!\n",
      "*звуки стрельбы*\n",
      "Попадание!\n",
      "Витя ранен!\n",
      "9\n"
     ]
    }
   ],
   "source": [
    "alpha.shoot(beta)\n",
    "alpha.shoot(delta)\n",
    "print(delta.health)"
   ]
  },
  {
   "cell_type": "code",
   "execution_count": 8,
   "metadata": {},
   "outputs": [
    {
     "name": "stdout",
     "output_type": "stream",
     "text": [
      "Здоровье восстановлено!\n",
      "Скорость увеличилась!\n"
     ]
    }
   ],
   "source": [
    "alpha.loot('аптечка')\n",
    "alpha.loot('ускоритель')"
   ]
  }
 ],
 "metadata": {
  "kernelspec": {
   "display_name": "Python 3",
   "language": "python",
   "name": "python3"
  },
  "language_info": {
   "codemirror_mode": {
    "name": "ipython",
    "version": 3
   },
   "file_extension": ".py",
   "mimetype": "text/x-python",
   "name": "python",
   "nbconvert_exporter": "python",
   "pygments_lexer": "ipython3",
   "version": "3.6.8"
  }
 },
 "nbformat": 4,
 "nbformat_minor": 2
}
